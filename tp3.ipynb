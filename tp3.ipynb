{
 "cells": [
  {
   "cell_type": "code",
   "execution_count": 16,
   "metadata": {},
   "outputs": [],
   "source": [
    "import numpy as np\n",
    "import pandas as pd\n",
    "pd.options.mode.chained_assignment = None\n",
    "np.random.seed(1)\n",
    "\n",
    "paris_listings=pd.read_csv(\"Data/paris_airbnb.csv\")"
   ]
  },
  {
   "cell_type": "code",
   "execution_count": 17,
   "metadata": {},
   "outputs": [],
   "source": [
    "#Supprimer les symboles de dollar $ et les virgules de la colonne cible price, puis la convertir en type float\n",
    "# Remove dollar signs and commas, then convert to float\n",
    "paris_listings['price'] = paris_listings['price'].str.replace(',', '').str.replace('$', '').astype('float')\n"
   ]
  },
  {
   "cell_type": "code",
   "execution_count": 18,
   "metadata": {},
   "outputs": [
    {
     "data": {
      "text/html": [
       "<div>\n",
       "<style scoped>\n",
       "    .dataframe tbody tr th:only-of-type {\n",
       "        vertical-align: middle;\n",
       "    }\n",
       "\n",
       "    .dataframe tbody tr th {\n",
       "        vertical-align: top;\n",
       "    }\n",
       "\n",
       "    .dataframe thead th {\n",
       "        text-align: right;\n",
       "    }\n",
       "</style>\n",
       "<table border=\"1\" class=\"dataframe\">\n",
       "  <thead>\n",
       "    <tr style=\"text-align: right;\">\n",
       "      <th></th>\n",
       "      <th>host_response_rate</th>\n",
       "      <th>host_acceptance_rate</th>\n",
       "      <th>host_listings_count</th>\n",
       "      <th>latitude</th>\n",
       "      <th>longitude</th>\n",
       "      <th>city</th>\n",
       "      <th>zipcode</th>\n",
       "      <th>state</th>\n",
       "      <th>accommodates</th>\n",
       "      <th>room_type</th>\n",
       "      <th>bedrooms</th>\n",
       "      <th>bathrooms</th>\n",
       "      <th>beds</th>\n",
       "      <th>price</th>\n",
       "      <th>cleaning_fee</th>\n",
       "      <th>security_deposit</th>\n",
       "      <th>minimum_nights</th>\n",
       "      <th>maximum_nights</th>\n",
       "      <th>number_of_reviews</th>\n",
       "    </tr>\n",
       "  </thead>\n",
       "  <tbody>\n",
       "    <tr>\n",
       "      <th>0</th>\n",
       "      <td>100%</td>\n",
       "      <td>NaN</td>\n",
       "      <td>1.0</td>\n",
       "      <td>48.83349</td>\n",
       "      <td>2.31852</td>\n",
       "      <td>Paris</td>\n",
       "      <td>75014</td>\n",
       "      <td>Île-de-France</td>\n",
       "      <td>2</td>\n",
       "      <td>Entire home/apt</td>\n",
       "      <td>0.0</td>\n",
       "      <td>1.0</td>\n",
       "      <td>0.0</td>\n",
       "      <td>75.0</td>\n",
       "      <td>$50.00</td>\n",
       "      <td>$0.00</td>\n",
       "      <td>3</td>\n",
       "      <td>15</td>\n",
       "      <td>8</td>\n",
       "    </tr>\n",
       "    <tr>\n",
       "      <th>1</th>\n",
       "      <td>100%</td>\n",
       "      <td>NaN</td>\n",
       "      <td>1.0</td>\n",
       "      <td>48.85100</td>\n",
       "      <td>2.35869</td>\n",
       "      <td>Paris</td>\n",
       "      <td>75004</td>\n",
       "      <td>Ile-de-France</td>\n",
       "      <td>2</td>\n",
       "      <td>Entire home/apt</td>\n",
       "      <td>0.0</td>\n",
       "      <td>1.0</td>\n",
       "      <td>1.0</td>\n",
       "      <td>115.0</td>\n",
       "      <td>$36.00</td>\n",
       "      <td>$0.00</td>\n",
       "      <td>1</td>\n",
       "      <td>90</td>\n",
       "      <td>173</td>\n",
       "    </tr>\n",
       "    <tr>\n",
       "      <th>2</th>\n",
       "      <td>100%</td>\n",
       "      <td>NaN</td>\n",
       "      <td>2.0</td>\n",
       "      <td>48.85758</td>\n",
       "      <td>2.35275</td>\n",
       "      <td>Paris</td>\n",
       "      <td>75004</td>\n",
       "      <td>Île-de-France</td>\n",
       "      <td>4</td>\n",
       "      <td>Entire home/apt</td>\n",
       "      <td>2.0</td>\n",
       "      <td>1.0</td>\n",
       "      <td>2.0</td>\n",
       "      <td>115.0</td>\n",
       "      <td>$50.00</td>\n",
       "      <td>$200.00</td>\n",
       "      <td>10</td>\n",
       "      <td>23</td>\n",
       "      <td>243</td>\n",
       "    </tr>\n",
       "    <tr>\n",
       "      <th>3</th>\n",
       "      <td>100%</td>\n",
       "      <td>NaN</td>\n",
       "      <td>1.0</td>\n",
       "      <td>48.86528</td>\n",
       "      <td>2.39326</td>\n",
       "      <td>Paris</td>\n",
       "      <td>75020</td>\n",
       "      <td>Ile-de-France</td>\n",
       "      <td>3</td>\n",
       "      <td>Entire home/apt</td>\n",
       "      <td>1.0</td>\n",
       "      <td>1.0</td>\n",
       "      <td>1.0</td>\n",
       "      <td>90.0</td>\n",
       "      <td>NaN</td>\n",
       "      <td>NaN</td>\n",
       "      <td>3</td>\n",
       "      <td>365</td>\n",
       "      <td>1</td>\n",
       "    </tr>\n",
       "    <tr>\n",
       "      <th>4</th>\n",
       "      <td>67%</td>\n",
       "      <td>NaN</td>\n",
       "      <td>3.0</td>\n",
       "      <td>48.85899</td>\n",
       "      <td>2.34735</td>\n",
       "      <td>Paris</td>\n",
       "      <td>75001</td>\n",
       "      <td>Île-de-France</td>\n",
       "      <td>2</td>\n",
       "      <td>Entire home/apt</td>\n",
       "      <td>1.0</td>\n",
       "      <td>1.0</td>\n",
       "      <td>1.0</td>\n",
       "      <td>75.0</td>\n",
       "      <td>$200.00</td>\n",
       "      <td>$1,500.00</td>\n",
       "      <td>180</td>\n",
       "      <td>365</td>\n",
       "      <td>0</td>\n",
       "    </tr>\n",
       "    <tr>\n",
       "      <th>...</th>\n",
       "      <td>...</td>\n",
       "      <td>...</td>\n",
       "      <td>...</td>\n",
       "      <td>...</td>\n",
       "      <td>...</td>\n",
       "      <td>...</td>\n",
       "      <td>...</td>\n",
       "      <td>...</td>\n",
       "      <td>...</td>\n",
       "      <td>...</td>\n",
       "      <td>...</td>\n",
       "      <td>...</td>\n",
       "      <td>...</td>\n",
       "      <td>...</td>\n",
       "      <td>...</td>\n",
       "      <td>...</td>\n",
       "      <td>...</td>\n",
       "      <td>...</td>\n",
       "      <td>...</td>\n",
       "    </tr>\n",
       "    <tr>\n",
       "      <th>7995</th>\n",
       "      <td>100%</td>\n",
       "      <td>NaN</td>\n",
       "      <td>2.0</td>\n",
       "      <td>48.87901</td>\n",
       "      <td>2.29526</td>\n",
       "      <td>Paris</td>\n",
       "      <td>75017</td>\n",
       "      <td>Île-de-France</td>\n",
       "      <td>2</td>\n",
       "      <td>Entire home/apt</td>\n",
       "      <td>0.0</td>\n",
       "      <td>1.0</td>\n",
       "      <td>1.0</td>\n",
       "      <td>55.0</td>\n",
       "      <td>$45.00</td>\n",
       "      <td>$400.00</td>\n",
       "      <td>150</td>\n",
       "      <td>1125</td>\n",
       "      <td>0</td>\n",
       "    </tr>\n",
       "    <tr>\n",
       "      <th>7996</th>\n",
       "      <td>NaN</td>\n",
       "      <td>NaN</td>\n",
       "      <td>1.0</td>\n",
       "      <td>48.88903</td>\n",
       "      <td>2.35271</td>\n",
       "      <td>Paris</td>\n",
       "      <td>75018</td>\n",
       "      <td>Île-de-France</td>\n",
       "      <td>4</td>\n",
       "      <td>Entire home/apt</td>\n",
       "      <td>1.0</td>\n",
       "      <td>1.0</td>\n",
       "      <td>2.0</td>\n",
       "      <td>60.0</td>\n",
       "      <td>$20.00</td>\n",
       "      <td>$100.00</td>\n",
       "      <td>3</td>\n",
       "      <td>1125</td>\n",
       "      <td>4</td>\n",
       "    </tr>\n",
       "    <tr>\n",
       "      <th>7997</th>\n",
       "      <td>100%</td>\n",
       "      <td>NaN</td>\n",
       "      <td>1.0</td>\n",
       "      <td>48.85313</td>\n",
       "      <td>2.34146</td>\n",
       "      <td>Paris</td>\n",
       "      <td>75006</td>\n",
       "      <td>Île-de-France</td>\n",
       "      <td>2</td>\n",
       "      <td>Entire home/apt</td>\n",
       "      <td>1.0</td>\n",
       "      <td>1.0</td>\n",
       "      <td>1.0</td>\n",
       "      <td>60.0</td>\n",
       "      <td>$30.00</td>\n",
       "      <td>$0.00</td>\n",
       "      <td>2</td>\n",
       "      <td>10</td>\n",
       "      <td>25</td>\n",
       "    </tr>\n",
       "    <tr>\n",
       "      <th>7998</th>\n",
       "      <td>NaN</td>\n",
       "      <td>NaN</td>\n",
       "      <td>1.0</td>\n",
       "      <td>48.88066</td>\n",
       "      <td>2.33639</td>\n",
       "      <td>Paris</td>\n",
       "      <td>75009</td>\n",
       "      <td>Île-de-France</td>\n",
       "      <td>2</td>\n",
       "      <td>Entire home/apt</td>\n",
       "      <td>NaN</td>\n",
       "      <td>1.0</td>\n",
       "      <td>1.0</td>\n",
       "      <td>58.0</td>\n",
       "      <td>NaN</td>\n",
       "      <td>$200.00</td>\n",
       "      <td>3</td>\n",
       "      <td>9</td>\n",
       "      <td>57</td>\n",
       "    </tr>\n",
       "    <tr>\n",
       "      <th>7999</th>\n",
       "      <td>100%</td>\n",
       "      <td>NaN</td>\n",
       "      <td>2.0</td>\n",
       "      <td>48.85760</td>\n",
       "      <td>2.39946</td>\n",
       "      <td>Paris</td>\n",
       "      <td>75020</td>\n",
       "      <td>Île-de-France</td>\n",
       "      <td>6</td>\n",
       "      <td>Entire home/apt</td>\n",
       "      <td>1.0</td>\n",
       "      <td>1.0</td>\n",
       "      <td>3.0</td>\n",
       "      <td>40.0</td>\n",
       "      <td>$35.00</td>\n",
       "      <td>$300.00</td>\n",
       "      <td>4</td>\n",
       "      <td>1125</td>\n",
       "      <td>49</td>\n",
       "    </tr>\n",
       "  </tbody>\n",
       "</table>\n",
       "<p>8000 rows × 19 columns</p>\n",
       "</div>"
      ],
      "text/plain": [
       "     host_response_rate  host_acceptance_rate  host_listings_count  latitude  \\\n",
       "0                  100%                   NaN                  1.0  48.83349   \n",
       "1                  100%                   NaN                  1.0  48.85100   \n",
       "2                  100%                   NaN                  2.0  48.85758   \n",
       "3                  100%                   NaN                  1.0  48.86528   \n",
       "4                   67%                   NaN                  3.0  48.85899   \n",
       "...                 ...                   ...                  ...       ...   \n",
       "7995               100%                   NaN                  2.0  48.87901   \n",
       "7996                NaN                   NaN                  1.0  48.88903   \n",
       "7997               100%                   NaN                  1.0  48.85313   \n",
       "7998                NaN                   NaN                  1.0  48.88066   \n",
       "7999               100%                   NaN                  2.0  48.85760   \n",
       "\n",
       "      longitude   city zipcode          state  accommodates        room_type  \\\n",
       "0       2.31852  Paris   75014  Île-de-France             2  Entire home/apt   \n",
       "1       2.35869  Paris   75004  Ile-de-France             2  Entire home/apt   \n",
       "2       2.35275  Paris   75004  Île-de-France             4  Entire home/apt   \n",
       "3       2.39326  Paris   75020  Ile-de-France             3  Entire home/apt   \n",
       "4       2.34735  Paris   75001  Île-de-France             2  Entire home/apt   \n",
       "...         ...    ...     ...            ...           ...              ...   \n",
       "7995    2.29526  Paris   75017  Île-de-France             2  Entire home/apt   \n",
       "7996    2.35271  Paris   75018  Île-de-France             4  Entire home/apt   \n",
       "7997    2.34146  Paris   75006  Île-de-France             2  Entire home/apt   \n",
       "7998    2.33639  Paris   75009  Île-de-France             2  Entire home/apt   \n",
       "7999    2.39946  Paris   75020  Île-de-France             6  Entire home/apt   \n",
       "\n",
       "      bedrooms  bathrooms  beds  price cleaning_fee security_deposit  \\\n",
       "0          0.0        1.0   0.0   75.0       $50.00            $0.00   \n",
       "1          0.0        1.0   1.0  115.0       $36.00            $0.00   \n",
       "2          2.0        1.0   2.0  115.0       $50.00          $200.00   \n",
       "3          1.0        1.0   1.0   90.0          NaN              NaN   \n",
       "4          1.0        1.0   1.0   75.0      $200.00        $1,500.00   \n",
       "...        ...        ...   ...    ...          ...              ...   \n",
       "7995       0.0        1.0   1.0   55.0       $45.00          $400.00   \n",
       "7996       1.0        1.0   2.0   60.0       $20.00          $100.00   \n",
       "7997       1.0        1.0   1.0   60.0       $30.00            $0.00   \n",
       "7998       NaN        1.0   1.0   58.0          NaN          $200.00   \n",
       "7999       1.0        1.0   3.0   40.0       $35.00          $300.00   \n",
       "\n",
       "      minimum_nights  maximum_nights  number_of_reviews  \n",
       "0                  3              15                  8  \n",
       "1                  1              90                173  \n",
       "2                 10              23                243  \n",
       "3                  3             365                  1  \n",
       "4                180             365                  0  \n",
       "...              ...             ...                ...  \n",
       "7995             150            1125                  0  \n",
       "7996               3            1125                  4  \n",
       "7997               2              10                 25  \n",
       "7998               3               9                 57  \n",
       "7999               4            1125                 49  \n",
       "\n",
       "[8000 rows x 19 columns]"
      ]
     },
     "execution_count": 18,
     "metadata": {},
     "output_type": "execute_result"
    }
   ],
   "source": [
    "paris_listings"
   ]
  },
  {
   "cell_type": "code",
   "execution_count": 19,
   "metadata": {},
   "outputs": [
    {
     "name": "stdout",
     "output_type": "stream",
     "text": [
      "     host_response_rate host_acceptance_rate host_listings_count  latitude  \\\n",
      "0                   NaN                  NaN                 1.0  48.88285   \n",
      "1                   NaN                  NaN                 1.0  48.86006   \n",
      "2                  100%                  NaN                 3.0  48.88794   \n",
      "3                   60%                  NaN                 1.0  48.88868   \n",
      "4                   90%                  NaN                 1.0  48.88686   \n",
      "...                 ...                  ...                 ...       ...   \n",
      "7995                NaN                  NaN                 1.0  48.84012   \n",
      "7996                NaN                  NaN                 1.0  48.87754   \n",
      "7997                NaN                  NaN                 1.0  48.84617   \n",
      "7998                65%                  NaN                93.0  48.85522   \n",
      "7999                NaN                  NaN                 1.0  48.87768   \n",
      "\n",
      "     longitude   city zipcode          state accommodates        room_type  \\\n",
      "0      2.33852  Paris   75018  Île-de-France            4  Entire home/apt   \n",
      "1      2.34768  Paris   75001  Île-de-France            3  Entire home/apt   \n",
      "2      2.34532  Paris   75018  Île-de-France            2  Entire home/apt   \n",
      "3      2.34111  Paris   75018  Île-de-France            2     Private room   \n",
      "4       2.3367  Paris   75018  Île-de-France            3  Entire home/apt   \n",
      "...        ...    ...     ...            ...          ...              ...   \n",
      "7995   2.39003  Paris   75012  Île-de-France            4  Entire home/apt   \n",
      "7996   2.35318  Paris   75010  Île-de-France            2  Entire home/apt   \n",
      "7997   2.37121  Paris   75012  Île-de-France            2  Entire home/apt   \n",
      "7998   2.36382  Paris   75004  Île-de-France            6  Entire home/apt   \n",
      "7999   2.32836  Paris   75009  Île-de-France            2  Entire home/apt   \n",
      "\n",
      "     bedrooms bathrooms beds  price cleaning_fee security_deposit  \\\n",
      "0         1.0       1.0  2.0   65.0       $30.00          $200.00   \n",
      "1         2.0       1.5  2.0   98.0          NaN              NaN   \n",
      "2         0.0       1.0  1.0   65.0       $30.00        $1,000.00   \n",
      "3         1.0       1.0  1.0   45.0       $30.00          $200.00   \n",
      "4         1.0       1.0  2.0   65.0          NaN          $200.00   \n",
      "...       ...       ...  ...    ...          ...              ...   \n",
      "7995      1.0       1.0  2.0   72.0        $0.00          $400.00   \n",
      "7996      0.0       1.0  1.0   49.0       $50.00              NaN   \n",
      "7997      0.0       1.0  1.0   99.0       $20.00          $100.00   \n",
      "7998      2.0       1.0  4.0  230.0       $90.00          $900.00   \n",
      "7999      1.0       1.0  1.0  100.0      $400.00              NaN   \n",
      "\n",
      "     minimum_nights maximum_nights number_of_reviews  \n",
      "0                 2           1125                 6  \n",
      "1                 5           1124                 1  \n",
      "2                10           1125                 0  \n",
      "3                 5           1125                83  \n",
      "4                 5            365                 5  \n",
      "...             ...            ...               ...  \n",
      "7995              7              7                 0  \n",
      "7996             30           1125                 2  \n",
      "7997              2           1125                 2  \n",
      "7998              2             25                98  \n",
      "7999              3             20                 0  \n",
      "\n",
      "[8000 rows x 19 columns]\n"
     ]
    }
   ],
   "source": [
    "# Mélange des lignes \n",
    "df = pd.DataFrame(np.random.permutation(paris_listings.values), columns=paris_listings.columns)\n",
    "df = df.reset_index(drop=True)\n",
    "print(df)\n",
    "\n",
    "#or paris_listings = paris_listings.sample(frac=1, random_state=1).reset_index(drop=True)\n",
    "\n"
   ]
  },
  {
   "cell_type": "code",
   "execution_count": 20,
   "metadata": {},
   "outputs": [],
   "source": [
    "split_one=df.iloc[:4000]\n",
    "split_two=df.iloc[4000:]\n"
   ]
  },
  {
   "cell_type": "markdown",
   "metadata": {},
   "source": [
    "\n",
    "Validation croisée Holdout"
   ]
  },
  {
   "cell_type": "code",
   "execution_count": 21,
   "metadata": {},
   "outputs": [
    {
     "name": "stdout",
     "output_type": "stream",
     "text": [
      "Iteration One RMSE: 90.35054908521586\n"
     ]
    }
   ],
   "source": [
    "from sklearn.neighbors import KNeighborsRegressor\n",
    "from sklearn.metrics import mean_squared_error\n",
    "\n",
    "train_one = split_one\n",
    "test_one = split_two\n",
    "train_two = split_two\n",
    "test_two = split_one\n",
    "\n",
    "# Step 1: Initialize the KNN regressor with default parameters (k=5, algorithm='auto')\n",
    "knn = KNeighborsRegressor()\n",
    "\n",
    "# Step 2: Train the model using 'accommodates' from train_one and 'price' as the target\n",
    "knn.fit(train_one[['accommodates']], train_one['price'])\n",
    "\n",
    "# Step 3: Predict on test_one using the trained model\n",
    "predictions1 = knn.predict(test_one[['accommodates']])\n",
    "\n",
    "# Step 4: Calculate the RMSE\n",
    "iteration_one_rmse = np.sqrt(mean_squared_error(test_one['price'], predictions1))\n",
    "print(\"Iteration One RMSE:\", iteration_one_rmse)\n"
   ]
  },
  {
   "cell_type": "code",
   "execution_count": 22,
   "metadata": {},
   "outputs": [
    {
     "name": "stdout",
     "output_type": "stream",
     "text": [
      "Iteration Two RMSE: 115.99320618036214\n"
     ]
    }
   ],
   "source": [
    "knn.fit(train_two[['accommodates']], train_two['price'])\n",
    "predictions2=knn.predict(test_two[['accommodates']])\n",
    "iteration_two_rmse=np.sqrt(mean_squared_error(test_two['price'],predictions2))\n",
    "print(\"Iteration Two RMSE:\",iteration_two_rmse)"
   ]
  },
  {
   "cell_type": "code",
   "execution_count": 23,
   "metadata": {},
   "outputs": [
    {
     "data": {
      "text/plain": [
       "103.171877632789"
      ]
     },
     "execution_count": 23,
     "metadata": {},
     "output_type": "execute_result"
    }
   ],
   "source": [
    "avg_rmse=np.mean([iteration_one_rmse,iteration_two_rmse])\n",
    "avg_rmse"
   ]
  },
  {
   "cell_type": "markdown",
   "metadata": {},
   "source": [
    "on a croisé les 2 parties de df pour verifier l overfitting: chnager les donnees pour le modéle et voir si le rmse change .\n",
    "le rmse donne la perfermance globale du modéle "
   ]
  },
  {
   "cell_type": "markdown",
   "metadata": {},
   "source": [
    "Validation croisée des K-Fold\n"
   ]
  },
  {
   "cell_type": "code",
   "execution_count": 24,
   "metadata": {},
   "outputs": [
    {
     "name": "stdout",
     "output_type": "stream",
     "text": [
      "Fold distribution:\n",
      " fold\n",
      "1    1600\n",
      "2    1600\n",
      "3    1600\n",
      "4    1600\n",
      "5    1600\n",
      "Name: count, dtype: int64\n"
     ]
    }
   ],
   "source": [
    "paris_listings['fold']=None \n",
    "\n",
    "paris_listings.loc[0:1600,'fold']=1\n",
    "paris_listings.loc[1600:3200 ,'fold']=2\n",
    "paris_listings.loc[3200:4800, 'fold']=3\n",
    "paris_listings.loc[4800:6400, 'fold']=4\n",
    "paris_listings.loc[6400:8000, 'fold']=5\n",
    "\n",
    "fold_counts = paris_listings['fold'].value_counts()\n",
    "print(\"Fold distribution:\\n\", fold_counts)\n",
    "\n"
   ]
  },
  {
   "cell_type": "code",
   "execution_count": 27,
   "metadata": {},
   "outputs": [
    {
     "name": "stdout",
     "output_type": "stream",
     "text": [
      "Predicted labels:\n",
      " [ 68.6  68.6  84.  ...  84.   68.6 217.2]\n",
      "RMSE for Fold 1: 97.3811369054603\n"
     ]
    }
   ],
   "source": [
    "train_set = paris_listings[paris_listings['fold'] != 1]\n",
    "test_set = paris_listings[paris_listings['fold'] == 1]\n",
    "\n",
    "knn.fit(train_set[['accommodates']], train_set['price'])\n",
    "labels = knn.predict(test_set[['accommodates']])\n",
    "\n",
    "\n",
    "fold_one_rmse = np.sqrt(mean_squared_error(test_set['price'], labels))\n",
    "print(\"Predicted labels:\\n\", labels)\n",
    "print(\"RMSE for Fold 1:\", fold_one_rmse)\n"
   ]
  },
  {
   "cell_type": "code",
   "execution_count": 29,
   "metadata": {},
   "outputs": [
    {
     "name": "stdout",
     "output_type": "stream",
     "text": [
      "Predicted labels:\n",
      " [ 95.  113.6  85.8 ...  66.8 113.6  95. ]\n",
      "RMSE for Fold 1: 89.19670467567734\n"
     ]
    }
   ],
   "source": [
    "train_set2 = paris_listings[paris_listings['fold'] != 2]\n",
    "test_set2 = paris_listings[paris_listings['fold'] == 2]\n",
    "\n",
    "knn.fit(train_set2[['accommodates']], train_set2['price'])\n",
    "labels2 = knn.predict(test_set2[['accommodates']])\n",
    "\n",
    "\n",
    "fold_two_rmse = np.sqrt(mean_squared_error(test_set2['price'], labels2))\n",
    "print(\"Predicted labels:\\n\", labels2)\n",
    "print(\"RMSE for Fold 2:\", fold_two_rmse)\n"
   ]
  },
  {
   "cell_type": "code",
   "execution_count": 30,
   "metadata": {},
   "outputs": [
    {
     "name": "stdout",
     "output_type": "stream",
     "text": [
      "Predicted labels:\n",
      " [ 95.  113.6  85.8 ...  66.8 113.6  95. ]\n",
      "RMSE for Fold 1: 151.2883885993899\n"
     ]
    }
   ],
   "source": [
    "train_set3 = paris_listings[paris_listings['fold'] != 3]\n",
    "test_set3 = paris_listings[paris_listings['fold'] == 3]\n",
    "\n",
    "knn.fit(train_set3[['accommodates']], train_set3['price'])\n",
    "labels3 = knn.predict(test_set3[['accommodates']])\n",
    "\n",
    "\n",
    "fold_three_rmse = np.sqrt(mean_squared_error(test_set3['price'], labels3))\n",
    "print(\"Predicted labels:\\n\", labels2)\n",
    "print(\"RMSE for Fold 3:\", fold_three_rmse)\n"
   ]
  },
  {
   "cell_type": "markdown",
   "metadata": {},
   "source": [
    "Partie 2"
   ]
  },
  {
   "cell_type": "code",
   "execution_count": 31,
   "metadata": {},
   "outputs": [
    {
     "name": "stdout",
     "output_type": "stream",
     "text": [
      "RMSEs for each fold: [97.3811369054603, 89.19670467567734, 151.2883885993899, 76.2122645969794, 83.62573407749555]\n",
      "Average RMSE: 99.54084577100049\n"
     ]
    }
   ],
   "source": [
    "def train_and_validate(df, folds):\n",
    "    fold_rmses = []\n",
    "    for fold in folds:\n",
    "        # Separate the training and testing sets for the current fold\n",
    "        train_set = df[df['fold'] != fold]\n",
    "        test_set = df[df['fold'] == fold]\n",
    "\n",
    "        # Initialize the KNN regressor\n",
    "        knn = KNeighborsRegressor()\n",
    "\n",
    "        # Train the model\n",
    "        knn.fit(train_set[['accommodates']], train_set['price'])\n",
    "\n",
    "        # Make predictions on the test set\n",
    "        predictions = knn.predict(test_set[['accommodates']])\n",
    "\n",
    "        # Calculate the RMSE for this fold\n",
    "        rmse = np.sqrt(mean_squared_error(test_set['price'], predictions))\n",
    "        fold_rmses.append(rmse)\n",
    "\n",
    "    return fold_rmses\n",
    "\n",
    "# Apply the function to paris_listings DataFrame\n",
    "rmses = train_and_validate(paris_listings, [1, 2, 3, 4, 5])\n",
    "\n",
    "# Calculate the average RMSE across all folds\n",
    "avg_rmse = np.mean(rmses)\n",
    "\n",
    "# Print the list of RMSEs and the average RMSE\n",
    "print(\"RMSEs for each fold:\", rmses)\n",
    "print(\"Average RMSE:\", avg_rmse)"
   ]
  },
  {
   "cell_type": "markdown",
   "metadata": {},
   "source": [
    "Partie 3"
   ]
  },
  {
   "cell_type": "markdown",
   "metadata": {},
   "source": [
    "Exécuter une validation croisée des K-Fold en utilisant Scikit-Learn"
   ]
  },
  {
   "cell_type": "code",
   "execution_count": 35,
   "metadata": {},
   "outputs": [
    {
     "name": "stdout",
     "output_type": "stream",
     "text": [
      "MSEs for each fold: [ -6546.241375 -29730.6649    -6443.279975  -9787.031875  -5567.80275 ]\n",
      "RMSEs for each fold: [ 80.90884609 172.42582434  80.27004407  98.92942876  74.6177107 ]\n",
      "Average RMSE: 101.43037079170577\n"
     ]
    }
   ],
   "source": [
    "from sklearn.metrics import make_scorer\n",
    "from sklearn.model_selection import cross_val_score, KFold\n",
    "kf = KFold(n_splits=5, shuffle=True, random_state=1)\n",
    "knn=KNeighborsRegressor()\n",
    "\n",
    "knn.fit(paris_listings[['accommodates']],paris_listings['price'])\n",
    "# Step 3: Perform K-Fold cross-validation and calculate MSE for each fold\n",
    "# Use make_scorer with mean_squared_error to get negative MSE scores\n",
    "mse_scorer = make_scorer(mean_squared_error, greater_is_better=False)\n",
    "mses = cross_val_score(knn, paris_listings[['accommodates']], paris_listings['price'], scoring=mse_scorer, cv=kf)\n",
    "\n",
    "# Step 4: Calculate the average RMSE by taking the square root of the absolute MSE values\n",
    "rmses = np.sqrt(np.abs(mses))\n",
    "avg_rmse = np.mean(rmses)\n",
    "\n",
    "# Display results\n",
    "print(\"MSEs for each fold:\", mses)\n",
    "print(\"RMSEs for each fold:\", rmses)\n",
    "print(\"Average RMSE:\", avg_rmse)"
   ]
  },
  {
   "cell_type": "code",
   "execution_count": 36,
   "metadata": {},
   "outputs": [
    {
     "name": "stdout",
     "output_type": "stream",
     "text": [
      "3 folds: avg RMSE: 99.87, std RMSE: 22.95\n",
      "5 folds: avg RMSE: 101.43, std RMSE: 36.43\n",
      "7 folds: avg RMSE: 113.93, std RMSE: 45.09\n",
      "9 folds: avg RMSE: 96.26, std RMSE: 36.99\n",
      "10 folds: avg RMSE: 94.67, std RMSE: 37.96\n",
      "11 folds: avg RMSE: 110.75, std RMSE: 56.35\n",
      "13 folds: avg RMSE: 103.24, std RMSE: 48.94\n",
      "15 folds: avg RMSE: 100.43, std RMSE: 46.39\n",
      "17 folds: avg RMSE: 94.42, std RMSE: 40.90\n",
      "19 folds: avg RMSE: 92.94, std RMSE: 42.80\n",
      "21 folds: avg RMSE: 103.70, std RMSE: 54.16\n",
      "23 folds: avg RMSE: 98.27, std RMSE: 48.12\n"
     ]
    }
   ],
   "source": [
    "from sklearn.model_selection import KFold, cross_val_score\n",
    "from sklearn.neighbors import KNeighborsRegressor\n",
    "import numpy as np\n",
    "\n",
    "# Étape 2: Définition des Folds\n",
    "num_folds = [3, 5, 7, 9, 10, 11, 13, 15, 17, 19, 21, 23]\n",
    "\n",
    "# Boucle d'Évaluation\n",
    "for fold in num_folds:\n",
    "    # Créer une instance de KFold\n",
    "    kf = KFold(n_splits=fold, shuffle=True, random_state=1)\n",
    "    \n",
    "    # Initialiser le modèle KNN\n",
    "    knn = KNeighborsRegressor()\n",
    "    \n",
    "    # Évaluer le modèle avec cross_val_score\n",
    "    mses = cross_val_score(knn, paris_listings[['accommodates']], paris_listings['price'], \n",
    "                           scoring='neg_mean_squared_error', cv=kf)\n",
    "    \n",
    "    # Convertir les valeurs MSE négatives en valeurs MSE positives\n",
    "    mse_positive = -mses\n",
    "    \n",
    "    # Calculer RMSE et ses statistiques\n",
    "    rmse = np.sqrt(mse_positive)\n",
    "    avg_rmse = np.mean(rmse)\n",
    "    std_rmse = np.std(rmse)\n",
    "    \n",
    "    # Affichage des Résultats\n",
    "    print(f\"{fold} folds: avg RMSE: {avg_rmse:.2f}, std RMSE: {std_rmse:.2f}\")\n"
   ]
  },
  {
   "cell_type": "markdown",
   "metadata": {},
   "source": [
    "Partie 4"
   ]
  },
  {
   "cell_type": "code",
   "execution_count": 38,
   "metadata": {},
   "outputs": [
    {
     "name": "stderr",
     "output_type": "stream",
     "text": [
      "C:\\Users\\21655\\AppData\\Local\\Programs\\Python\\Python312\\Lib\\site-packages\\sklearn\\linear_model\\_logistic.py:469: ConvergenceWarning: lbfgs failed to converge (status=1):\n",
      "STOP: TOTAL NO. of ITERATIONS REACHED LIMIT.\n",
      "\n",
      "Increase the number of iterations (max_iter) or scale the data as shown in:\n",
      "    https://scikit-learn.org/stable/modules/preprocessing.html\n",
      "Please also refer to the documentation for alternative solver options:\n",
      "    https://scikit-learn.org/stable/modules/linear_model.html#logistic-regression\n",
      "  n_iter_i = _check_optimize_result(\n",
      "C:\\Users\\21655\\AppData\\Local\\Programs\\Python\\Python312\\Lib\\site-packages\\sklearn\\linear_model\\_logistic.py:469: ConvergenceWarning: lbfgs failed to converge (status=1):\n",
      "STOP: TOTAL NO. of ITERATIONS REACHED LIMIT.\n",
      "\n",
      "Increase the number of iterations (max_iter) or scale the data as shown in:\n",
      "    https://scikit-learn.org/stable/modules/preprocessing.html\n",
      "Please also refer to the documentation for alternative solver options:\n",
      "    https://scikit-learn.org/stable/modules/linear_model.html#logistic-regression\n",
      "  n_iter_i = _check_optimize_result(\n",
      "C:\\Users\\21655\\AppData\\Local\\Programs\\Python\\Python312\\Lib\\site-packages\\sklearn\\linear_model\\_logistic.py:469: ConvergenceWarning: lbfgs failed to converge (status=1):\n",
      "STOP: TOTAL NO. of ITERATIONS REACHED LIMIT.\n",
      "\n",
      "Increase the number of iterations (max_iter) or scale the data as shown in:\n",
      "    https://scikit-learn.org/stable/modules/preprocessing.html\n",
      "Please also refer to the documentation for alternative solver options:\n",
      "    https://scikit-learn.org/stable/modules/linear_model.html#logistic-regression\n",
      "  n_iter_i = _check_optimize_result(\n",
      "C:\\Users\\21655\\AppData\\Local\\Programs\\Python\\Python312\\Lib\\site-packages\\sklearn\\linear_model\\_logistic.py:469: ConvergenceWarning: lbfgs failed to converge (status=1):\n",
      "STOP: TOTAL NO. of ITERATIONS REACHED LIMIT.\n",
      "\n",
      "Increase the number of iterations (max_iter) or scale the data as shown in:\n",
      "    https://scikit-learn.org/stable/modules/preprocessing.html\n",
      "Please also refer to the documentation for alternative solver options:\n",
      "    https://scikit-learn.org/stable/modules/linear_model.html#logistic-regression\n",
      "  n_iter_i = _check_optimize_result(\n",
      "C:\\Users\\21655\\AppData\\Local\\Programs\\Python\\Python312\\Lib\\site-packages\\sklearn\\linear_model\\_logistic.py:469: ConvergenceWarning: lbfgs failed to converge (status=1):\n",
      "STOP: TOTAL NO. of ITERATIONS REACHED LIMIT.\n",
      "\n",
      "Increase the number of iterations (max_iter) or scale the data as shown in:\n",
      "    https://scikit-learn.org/stable/modules/preprocessing.html\n",
      "Please also refer to the documentation for alternative solver options:\n",
      "    https://scikit-learn.org/stable/modules/linear_model.html#logistic-regression\n",
      "  n_iter_i = _check_optimize_result(\n"
     ]
    },
    {
     "name": "stdout",
     "output_type": "stream",
     "text": [
      "Accuracy pour chaque fold: [0.9010989  0.92307692 0.95604396 0.97802198 0.95604396]\n",
      "Accuracy moyenne: 0.9428571428571428\n",
      "Matrice de Confusion :\n",
      " [[37  5]\n",
      " [ 0 72]]\n"
     ]
    },
    {
     "name": "stderr",
     "output_type": "stream",
     "text": [
      "C:\\Users\\21655\\AppData\\Local\\Programs\\Python\\Python312\\Lib\\site-packages\\sklearn\\linear_model\\_logistic.py:469: ConvergenceWarning: lbfgs failed to converge (status=1):\n",
      "STOP: TOTAL NO. of ITERATIONS REACHED LIMIT.\n",
      "\n",
      "Increase the number of iterations (max_iter) or scale the data as shown in:\n",
      "    https://scikit-learn.org/stable/modules/preprocessing.html\n",
      "Please also refer to the documentation for alternative solver options:\n",
      "    https://scikit-learn.org/stable/modules/linear_model.html#logistic-regression\n",
      "  n_iter_i = _check_optimize_result(\n"
     ]
    },
    {
     "data": {
      "image/png": "[encoded data removed]",
      "text/plain": [
       "<Figure size 800x600 with 2 Axes>"
      ]
     },
     "metadata": {},
     "output_type": "display_data"
    },
    {
     "name": "stdout",
     "output_type": "stream",
     "text": [
      "Accuracy sur l'ensemble de test: 0.956140350877193\n"
     ]
    }
   ],
   "source": [
    "import matplotlib.pyplot as plt\n",
    "import seaborn as sns\n",
    "from sklearn.datasets import load_breast_cancer\n",
    "from sklearn.model_selection import train_test_split, cross_val_score\n",
    "from sklearn.linear_model import LogisticRegression\n",
    "from sklearn.metrics import confusion_matrix, accuracy_score\n",
    "\n",
    "# 1. Chargement des Données\n",
    "data = load_breast_cancer()\n",
    "X = data.data\n",
    "y = data.target\n",
    "\n",
    "# 2. Prétraitement et Division des Données\n",
    "X_train, X_test, y_train, y_test = train_test_split(X, y, test_size=0.2, random_state=1)\n",
    "\n",
    "# 3. Création du Modèle\n",
    "log_reg = LogisticRegression(max_iter=1000)  # Augmentation du nombre maximum d'itérations si nécessaire\n",
    "\n",
    "# 4. Validation Croisée\n",
    "cv_scores = cross_val_score(log_reg, X_train, y_train, cv=5, scoring='accuracy')\n",
    "print(\"Accuracy pour chaque fold:\", cv_scores)\n",
    "print(\"Accuracy moyenne:\", np.mean(cv_scores))\n",
    "\n",
    "# 5. Entraînement du Modèle\n",
    "log_reg.fit(X_train, y_train)\n",
    "\n",
    "# Prédictions\n",
    "y_pred = log_reg.predict(X_test)\n",
    "\n",
    "# Matrice de Confusion\n",
    "cm = confusion_matrix(y_test, y_pred)\n",
    "print(\"Matrice de Confusion :\\n\", cm)\n",
    "\n",
    "# Visualisation de la Matrice de Confusion\n",
    "plt.figure(figsize=(8, 6))\n",
    "sns.heatmap(cm, annot=True, fmt='d', cmap='Blues', xticklabels=data.target_names, yticklabels=data.target_names)\n",
    "plt.title('Matrice de Confusion')\n",
    "plt.xlabel('Prédictions')\n",
    "plt.ylabel('Vérités')\n",
    "plt.show()\n",
    "\n",
    "# Évaluation Finale\n",
    "accuracy = accuracy_score(y_test, y_pred)\n",
    "print(\"Accuracy sur l'ensemble de test:\", accuracy)\n"
   ]
  }
 ],
 "metadata": {
  "kernelspec": {
   "display_name": "ML_python_env",
   "language": "python",
   "name": "python3"
  },
  "language_info": {
   "codemirror_mode": {
    "name": "ipython",
    "version": 3
   },
   "file_extension": ".py",
   "mimetype": "text/x-python",
   "name": "python",
   "nbconvert_exporter": "python",
   "pygments_lexer": "ipython3",
   "version": "3.12.0"
  }
 },
 "nbformat": 4,
 "nbformat_minor": 2
}
